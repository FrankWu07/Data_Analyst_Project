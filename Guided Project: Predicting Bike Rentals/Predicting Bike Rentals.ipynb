{
 "cells": [
  {
   "cell_type": "markdown",
   "metadata": {
    "collapsed": true
   },
   "source": [
    "# Guided Project: Predicting Bike Rentals"
   ]
  },
  {
   "cell_type": "markdown",
   "metadata": {},
   "source": [
    "Many American cities have communal bike sharing stations where you can rent bicycles by the hour or day. Washington, D.C. is one of these cities. The District collects detailed data on the number of bicycles people rent by the hour and day.\n",
    "\n",
    "Hadi Fanaee-T at the University of Porto compiled this data into a CSV file, which you'll be working with in this project. The file contains `17380` rows, with each row representing the number of bike rentals for a single hour of a single day. You can download the data from [the University of California, Irvine's website](http://archive.ics.uci.edu/ml/datasets/Bike+Sharing+Dataset).\n",
    "\n",
    "Here are the descriptions for the relevant columns:\n",
    "\n",
    "* `instant` - A unique sequential ID number for each row\n",
    "* `dteday` - The date of the rentals\n",
    "* `season` - The season in which the rentals occurred\n",
    "* `yr` - The year the rentals occurred\n",
    "* `mnth` - The month the rentals occurred\n",
    "* `hr` - The hour the rentals occurred\n",
    "* `holiday` - Whether or not the day was a holiday\n",
    "* `weekday` - The day of the week (as a number, `0` to `7`)\n",
    "* `workingday` - Whether or not the day was a working day\n",
    "* `weathersit` - The weather (as a categorical variable)\n",
    "* `temp` - The temperature, on a `0-1` scale\n",
    "* `atemp` - The adjusted temperature\n",
    "* `hum` - The humidity, on a `0-1` scale\n",
    "* `windspeed` - The wind speed, on a `0-1` scale\n",
    "* `casual` - The number of casual riders (people who hadn't previously signed up with the bike sharing program)\n",
    "* `registered` - The number of registered riders (people who had already signed up)\n",
    "* `cnt` - The total number of bike rentals (`casual` + `registered`)\n",
    "\n",
    "\n",
    "In this project, I'll try to predict the total number of bikes people rented in a given hour. I'll predict the cnt column using all of the other columns, except for casual and registered. To accomplish this, I'll create a few different machine learning models and evaluate their performance."
   ]
  },
  {
   "cell_type": "code",
   "execution_count": 1,
   "metadata": {},
   "outputs": [],
   "source": [
    "# import model\n",
    "\n",
    "import pandas as pd\n",
    "import matplotlib.pyplot as plt\n",
    "%matplotlib inline\n",
    "import seaborn as sns\n",
    "from sklearn.metrics import mean_squared_error\n",
    "from sklearn.linear_model import LinearRegression\n",
    "import numpy as np\n",
    "from sklearn.tree import DecisionTreeRegressor\n",
    "from sklearn.ensemble import RandomForestRegressor\n",
    "from sklearn.metrics import r2_score\n",
    "from sklearn.metrics import roc_auc_score"
   ]
  },
  {
   "cell_type": "code",
   "execution_count": 2,
   "metadata": {},
   "outputs": [
    {
     "data": {
      "text/html": [
       "<div>\n",
       "<style scoped>\n",
       "    .dataframe tbody tr th:only-of-type {\n",
       "        vertical-align: middle;\n",
       "    }\n",
       "\n",
       "    .dataframe tbody tr th {\n",
       "        vertical-align: top;\n",
       "    }\n",
       "\n",
       "    .dataframe thead th {\n",
       "        text-align: right;\n",
       "    }\n",
       "</style>\n",
       "<table border=\"1\" class=\"dataframe\">\n",
       "  <thead>\n",
       "    <tr style=\"text-align: right;\">\n",
       "      <th></th>\n",
       "      <th>instant</th>\n",
       "      <th>dteday</th>\n",
       "      <th>season</th>\n",
       "      <th>yr</th>\n",
       "      <th>mnth</th>\n",
       "      <th>hr</th>\n",
       "      <th>holiday</th>\n",
       "      <th>weekday</th>\n",
       "      <th>workingday</th>\n",
       "      <th>weathersit</th>\n",
       "      <th>temp</th>\n",
       "      <th>atemp</th>\n",
       "      <th>hum</th>\n",
       "      <th>windspeed</th>\n",
       "      <th>casual</th>\n",
       "      <th>registered</th>\n",
       "      <th>cnt</th>\n",
       "    </tr>\n",
       "  </thead>\n",
       "  <tbody>\n",
       "    <tr>\n",
       "      <th>0</th>\n",
       "      <td>1</td>\n",
       "      <td>2011-01-01</td>\n",
       "      <td>1</td>\n",
       "      <td>0</td>\n",
       "      <td>1</td>\n",
       "      <td>0</td>\n",
       "      <td>0</td>\n",
       "      <td>6</td>\n",
       "      <td>0</td>\n",
       "      <td>1</td>\n",
       "      <td>0.24</td>\n",
       "      <td>0.2879</td>\n",
       "      <td>0.81</td>\n",
       "      <td>0.0000</td>\n",
       "      <td>3</td>\n",
       "      <td>13</td>\n",
       "      <td>16</td>\n",
       "    </tr>\n",
       "    <tr>\n",
       "      <th>1</th>\n",
       "      <td>2</td>\n",
       "      <td>2011-01-01</td>\n",
       "      <td>1</td>\n",
       "      <td>0</td>\n",
       "      <td>1</td>\n",
       "      <td>1</td>\n",
       "      <td>0</td>\n",
       "      <td>6</td>\n",
       "      <td>0</td>\n",
       "      <td>1</td>\n",
       "      <td>0.22</td>\n",
       "      <td>0.2727</td>\n",
       "      <td>0.80</td>\n",
       "      <td>0.0000</td>\n",
       "      <td>8</td>\n",
       "      <td>32</td>\n",
       "      <td>40</td>\n",
       "    </tr>\n",
       "    <tr>\n",
       "      <th>2</th>\n",
       "      <td>3</td>\n",
       "      <td>2011-01-01</td>\n",
       "      <td>1</td>\n",
       "      <td>0</td>\n",
       "      <td>1</td>\n",
       "      <td>2</td>\n",
       "      <td>0</td>\n",
       "      <td>6</td>\n",
       "      <td>0</td>\n",
       "      <td>1</td>\n",
       "      <td>0.22</td>\n",
       "      <td>0.2727</td>\n",
       "      <td>0.80</td>\n",
       "      <td>0.0000</td>\n",
       "      <td>5</td>\n",
       "      <td>27</td>\n",
       "      <td>32</td>\n",
       "    </tr>\n",
       "    <tr>\n",
       "      <th>3</th>\n",
       "      <td>4</td>\n",
       "      <td>2011-01-01</td>\n",
       "      <td>1</td>\n",
       "      <td>0</td>\n",
       "      <td>1</td>\n",
       "      <td>3</td>\n",
       "      <td>0</td>\n",
       "      <td>6</td>\n",
       "      <td>0</td>\n",
       "      <td>1</td>\n",
       "      <td>0.24</td>\n",
       "      <td>0.2879</td>\n",
       "      <td>0.75</td>\n",
       "      <td>0.0000</td>\n",
       "      <td>3</td>\n",
       "      <td>10</td>\n",
       "      <td>13</td>\n",
       "    </tr>\n",
       "    <tr>\n",
       "      <th>4</th>\n",
       "      <td>5</td>\n",
       "      <td>2011-01-01</td>\n",
       "      <td>1</td>\n",
       "      <td>0</td>\n",
       "      <td>1</td>\n",
       "      <td>4</td>\n",
       "      <td>0</td>\n",
       "      <td>6</td>\n",
       "      <td>0</td>\n",
       "      <td>1</td>\n",
       "      <td>0.24</td>\n",
       "      <td>0.2879</td>\n",
       "      <td>0.75</td>\n",
       "      <td>0.0000</td>\n",
       "      <td>0</td>\n",
       "      <td>1</td>\n",
       "      <td>1</td>\n",
       "    </tr>\n",
       "    <tr>\n",
       "      <th>5</th>\n",
       "      <td>6</td>\n",
       "      <td>2011-01-01</td>\n",
       "      <td>1</td>\n",
       "      <td>0</td>\n",
       "      <td>1</td>\n",
       "      <td>5</td>\n",
       "      <td>0</td>\n",
       "      <td>6</td>\n",
       "      <td>0</td>\n",
       "      <td>2</td>\n",
       "      <td>0.24</td>\n",
       "      <td>0.2576</td>\n",
       "      <td>0.75</td>\n",
       "      <td>0.0896</td>\n",
       "      <td>0</td>\n",
       "      <td>1</td>\n",
       "      <td>1</td>\n",
       "    </tr>\n",
       "    <tr>\n",
       "      <th>6</th>\n",
       "      <td>7</td>\n",
       "      <td>2011-01-01</td>\n",
       "      <td>1</td>\n",
       "      <td>0</td>\n",
       "      <td>1</td>\n",
       "      <td>6</td>\n",
       "      <td>0</td>\n",
       "      <td>6</td>\n",
       "      <td>0</td>\n",
       "      <td>1</td>\n",
       "      <td>0.22</td>\n",
       "      <td>0.2727</td>\n",
       "      <td>0.80</td>\n",
       "      <td>0.0000</td>\n",
       "      <td>2</td>\n",
       "      <td>0</td>\n",
       "      <td>2</td>\n",
       "    </tr>\n",
       "    <tr>\n",
       "      <th>7</th>\n",
       "      <td>8</td>\n",
       "      <td>2011-01-01</td>\n",
       "      <td>1</td>\n",
       "      <td>0</td>\n",
       "      <td>1</td>\n",
       "      <td>7</td>\n",
       "      <td>0</td>\n",
       "      <td>6</td>\n",
       "      <td>0</td>\n",
       "      <td>1</td>\n",
       "      <td>0.20</td>\n",
       "      <td>0.2576</td>\n",
       "      <td>0.86</td>\n",
       "      <td>0.0000</td>\n",
       "      <td>1</td>\n",
       "      <td>2</td>\n",
       "      <td>3</td>\n",
       "    </tr>\n",
       "    <tr>\n",
       "      <th>8</th>\n",
       "      <td>9</td>\n",
       "      <td>2011-01-01</td>\n",
       "      <td>1</td>\n",
       "      <td>0</td>\n",
       "      <td>1</td>\n",
       "      <td>8</td>\n",
       "      <td>0</td>\n",
       "      <td>6</td>\n",
       "      <td>0</td>\n",
       "      <td>1</td>\n",
       "      <td>0.24</td>\n",
       "      <td>0.2879</td>\n",
       "      <td>0.75</td>\n",
       "      <td>0.0000</td>\n",
       "      <td>1</td>\n",
       "      <td>7</td>\n",
       "      <td>8</td>\n",
       "    </tr>\n",
       "    <tr>\n",
       "      <th>9</th>\n",
       "      <td>10</td>\n",
       "      <td>2011-01-01</td>\n",
       "      <td>1</td>\n",
       "      <td>0</td>\n",
       "      <td>1</td>\n",
       "      <td>9</td>\n",
       "      <td>0</td>\n",
       "      <td>6</td>\n",
       "      <td>0</td>\n",
       "      <td>1</td>\n",
       "      <td>0.32</td>\n",
       "      <td>0.3485</td>\n",
       "      <td>0.76</td>\n",
       "      <td>0.0000</td>\n",
       "      <td>8</td>\n",
       "      <td>6</td>\n",
       "      <td>14</td>\n",
       "    </tr>\n",
       "  </tbody>\n",
       "</table>\n",
       "</div>"
      ],
      "text/plain": [
       "   instant      dteday  season  yr  mnth  hr  holiday  weekday  workingday  \\\n",
       "0        1  2011-01-01       1   0     1   0        0        6           0   \n",
       "1        2  2011-01-01       1   0     1   1        0        6           0   \n",
       "2        3  2011-01-01       1   0     1   2        0        6           0   \n",
       "3        4  2011-01-01       1   0     1   3        0        6           0   \n",
       "4        5  2011-01-01       1   0     1   4        0        6           0   \n",
       "5        6  2011-01-01       1   0     1   5        0        6           0   \n",
       "6        7  2011-01-01       1   0     1   6        0        6           0   \n",
       "7        8  2011-01-01       1   0     1   7        0        6           0   \n",
       "8        9  2011-01-01       1   0     1   8        0        6           0   \n",
       "9       10  2011-01-01       1   0     1   9        0        6           0   \n",
       "\n",
       "   weathersit  temp   atemp   hum  windspeed  casual  registered  cnt  \n",
       "0           1  0.24  0.2879  0.81     0.0000       3          13   16  \n",
       "1           1  0.22  0.2727  0.80     0.0000       8          32   40  \n",
       "2           1  0.22  0.2727  0.80     0.0000       5          27   32  \n",
       "3           1  0.24  0.2879  0.75     0.0000       3          10   13  \n",
       "4           1  0.24  0.2879  0.75     0.0000       0           1    1  \n",
       "5           2  0.24  0.2576  0.75     0.0896       0           1    1  \n",
       "6           1  0.22  0.2727  0.80     0.0000       2           0    2  \n",
       "7           1  0.20  0.2576  0.86     0.0000       1           2    3  \n",
       "8           1  0.24  0.2879  0.75     0.0000       1           7    8  \n",
       "9           1  0.32  0.3485  0.76     0.0000       8           6   14  "
      ]
     },
     "execution_count": 2,
     "metadata": {},
     "output_type": "execute_result"
    }
   ],
   "source": [
    "#read data\n",
    "bike_data=pd.read_csv('bike_rental_hour.csv')\n",
    "bike_data.head(10)"
   ]
  },
  {
   "cell_type": "code",
   "execution_count": 3,
   "metadata": {},
   "outputs": [
    {
     "data": {
      "text/html": [
       "<div>\n",
       "<style scoped>\n",
       "    .dataframe tbody tr th:only-of-type {\n",
       "        vertical-align: middle;\n",
       "    }\n",
       "\n",
       "    .dataframe tbody tr th {\n",
       "        vertical-align: top;\n",
       "    }\n",
       "\n",
       "    .dataframe thead th {\n",
       "        text-align: right;\n",
       "    }\n",
       "</style>\n",
       "<table border=\"1\" class=\"dataframe\">\n",
       "  <thead>\n",
       "    <tr style=\"text-align: right;\">\n",
       "      <th></th>\n",
       "      <th>instant</th>\n",
       "      <th>season</th>\n",
       "      <th>yr</th>\n",
       "      <th>mnth</th>\n",
       "      <th>hr</th>\n",
       "      <th>holiday</th>\n",
       "      <th>weekday</th>\n",
       "      <th>workingday</th>\n",
       "      <th>weathersit</th>\n",
       "      <th>temp</th>\n",
       "      <th>atemp</th>\n",
       "      <th>hum</th>\n",
       "      <th>windspeed</th>\n",
       "      <th>casual</th>\n",
       "      <th>registered</th>\n",
       "      <th>cnt</th>\n",
       "    </tr>\n",
       "  </thead>\n",
       "  <tbody>\n",
       "    <tr>\n",
       "      <th>count</th>\n",
       "      <td>17379.0000</td>\n",
       "      <td>17379.000000</td>\n",
       "      <td>17379.000000</td>\n",
       "      <td>17379.000000</td>\n",
       "      <td>17379.000000</td>\n",
       "      <td>17379.000000</td>\n",
       "      <td>17379.000000</td>\n",
       "      <td>17379.000000</td>\n",
       "      <td>17379.000000</td>\n",
       "      <td>17379.000000</td>\n",
       "      <td>17379.000000</td>\n",
       "      <td>17379.000000</td>\n",
       "      <td>17379.000000</td>\n",
       "      <td>17379.000000</td>\n",
       "      <td>17379.000000</td>\n",
       "      <td>17379.000000</td>\n",
       "    </tr>\n",
       "    <tr>\n",
       "      <th>mean</th>\n",
       "      <td>8690.0000</td>\n",
       "      <td>2.501640</td>\n",
       "      <td>0.502561</td>\n",
       "      <td>6.537775</td>\n",
       "      <td>11.546752</td>\n",
       "      <td>0.028770</td>\n",
       "      <td>3.003683</td>\n",
       "      <td>0.682721</td>\n",
       "      <td>1.425283</td>\n",
       "      <td>0.496987</td>\n",
       "      <td>0.475775</td>\n",
       "      <td>0.627229</td>\n",
       "      <td>0.190098</td>\n",
       "      <td>35.676218</td>\n",
       "      <td>153.786869</td>\n",
       "      <td>189.463088</td>\n",
       "    </tr>\n",
       "    <tr>\n",
       "      <th>std</th>\n",
       "      <td>5017.0295</td>\n",
       "      <td>1.106918</td>\n",
       "      <td>0.500008</td>\n",
       "      <td>3.438776</td>\n",
       "      <td>6.914405</td>\n",
       "      <td>0.167165</td>\n",
       "      <td>2.005771</td>\n",
       "      <td>0.465431</td>\n",
       "      <td>0.639357</td>\n",
       "      <td>0.192556</td>\n",
       "      <td>0.171850</td>\n",
       "      <td>0.192930</td>\n",
       "      <td>0.122340</td>\n",
       "      <td>49.305030</td>\n",
       "      <td>151.357286</td>\n",
       "      <td>181.387599</td>\n",
       "    </tr>\n",
       "    <tr>\n",
       "      <th>min</th>\n",
       "      <td>1.0000</td>\n",
       "      <td>1.000000</td>\n",
       "      <td>0.000000</td>\n",
       "      <td>1.000000</td>\n",
       "      <td>0.000000</td>\n",
       "      <td>0.000000</td>\n",
       "      <td>0.000000</td>\n",
       "      <td>0.000000</td>\n",
       "      <td>1.000000</td>\n",
       "      <td>0.020000</td>\n",
       "      <td>0.000000</td>\n",
       "      <td>0.000000</td>\n",
       "      <td>0.000000</td>\n",
       "      <td>0.000000</td>\n",
       "      <td>0.000000</td>\n",
       "      <td>1.000000</td>\n",
       "    </tr>\n",
       "    <tr>\n",
       "      <th>25%</th>\n",
       "      <td>4345.5000</td>\n",
       "      <td>2.000000</td>\n",
       "      <td>0.000000</td>\n",
       "      <td>4.000000</td>\n",
       "      <td>6.000000</td>\n",
       "      <td>0.000000</td>\n",
       "      <td>1.000000</td>\n",
       "      <td>0.000000</td>\n",
       "      <td>1.000000</td>\n",
       "      <td>0.340000</td>\n",
       "      <td>0.333300</td>\n",
       "      <td>0.480000</td>\n",
       "      <td>0.104500</td>\n",
       "      <td>4.000000</td>\n",
       "      <td>34.000000</td>\n",
       "      <td>40.000000</td>\n",
       "    </tr>\n",
       "    <tr>\n",
       "      <th>50%</th>\n",
       "      <td>8690.0000</td>\n",
       "      <td>3.000000</td>\n",
       "      <td>1.000000</td>\n",
       "      <td>7.000000</td>\n",
       "      <td>12.000000</td>\n",
       "      <td>0.000000</td>\n",
       "      <td>3.000000</td>\n",
       "      <td>1.000000</td>\n",
       "      <td>1.000000</td>\n",
       "      <td>0.500000</td>\n",
       "      <td>0.484800</td>\n",
       "      <td>0.630000</td>\n",
       "      <td>0.194000</td>\n",
       "      <td>17.000000</td>\n",
       "      <td>115.000000</td>\n",
       "      <td>142.000000</td>\n",
       "    </tr>\n",
       "    <tr>\n",
       "      <th>75%</th>\n",
       "      <td>13034.5000</td>\n",
       "      <td>3.000000</td>\n",
       "      <td>1.000000</td>\n",
       "      <td>10.000000</td>\n",
       "      <td>18.000000</td>\n",
       "      <td>0.000000</td>\n",
       "      <td>5.000000</td>\n",
       "      <td>1.000000</td>\n",
       "      <td>2.000000</td>\n",
       "      <td>0.660000</td>\n",
       "      <td>0.621200</td>\n",
       "      <td>0.780000</td>\n",
       "      <td>0.253700</td>\n",
       "      <td>48.000000</td>\n",
       "      <td>220.000000</td>\n",
       "      <td>281.000000</td>\n",
       "    </tr>\n",
       "    <tr>\n",
       "      <th>max</th>\n",
       "      <td>17379.0000</td>\n",
       "      <td>4.000000</td>\n",
       "      <td>1.000000</td>\n",
       "      <td>12.000000</td>\n",
       "      <td>23.000000</td>\n",
       "      <td>1.000000</td>\n",
       "      <td>6.000000</td>\n",
       "      <td>1.000000</td>\n",
       "      <td>4.000000</td>\n",
       "      <td>1.000000</td>\n",
       "      <td>1.000000</td>\n",
       "      <td>1.000000</td>\n",
       "      <td>0.850700</td>\n",
       "      <td>367.000000</td>\n",
       "      <td>886.000000</td>\n",
       "      <td>977.000000</td>\n",
       "    </tr>\n",
       "  </tbody>\n",
       "</table>\n",
       "</div>"
      ],
      "text/plain": [
       "          instant        season            yr          mnth            hr  \\\n",
       "count  17379.0000  17379.000000  17379.000000  17379.000000  17379.000000   \n",
       "mean    8690.0000      2.501640      0.502561      6.537775     11.546752   \n",
       "std     5017.0295      1.106918      0.500008      3.438776      6.914405   \n",
       "min        1.0000      1.000000      0.000000      1.000000      0.000000   \n",
       "25%     4345.5000      2.000000      0.000000      4.000000      6.000000   \n",
       "50%     8690.0000      3.000000      1.000000      7.000000     12.000000   \n",
       "75%    13034.5000      3.000000      1.000000     10.000000     18.000000   \n",
       "max    17379.0000      4.000000      1.000000     12.000000     23.000000   \n",
       "\n",
       "            holiday       weekday    workingday    weathersit          temp  \\\n",
       "count  17379.000000  17379.000000  17379.000000  17379.000000  17379.000000   \n",
       "mean       0.028770      3.003683      0.682721      1.425283      0.496987   \n",
       "std        0.167165      2.005771      0.465431      0.639357      0.192556   \n",
       "min        0.000000      0.000000      0.000000      1.000000      0.020000   \n",
       "25%        0.000000      1.000000      0.000000      1.000000      0.340000   \n",
       "50%        0.000000      3.000000      1.000000      1.000000      0.500000   \n",
       "75%        0.000000      5.000000      1.000000      2.000000      0.660000   \n",
       "max        1.000000      6.000000      1.000000      4.000000      1.000000   \n",
       "\n",
       "              atemp           hum     windspeed        casual    registered  \\\n",
       "count  17379.000000  17379.000000  17379.000000  17379.000000  17379.000000   \n",
       "mean       0.475775      0.627229      0.190098     35.676218    153.786869   \n",
       "std        0.171850      0.192930      0.122340     49.305030    151.357286   \n",
       "min        0.000000      0.000000      0.000000      0.000000      0.000000   \n",
       "25%        0.333300      0.480000      0.104500      4.000000     34.000000   \n",
       "50%        0.484800      0.630000      0.194000     17.000000    115.000000   \n",
       "75%        0.621200      0.780000      0.253700     48.000000    220.000000   \n",
       "max        1.000000      1.000000      0.850700    367.000000    886.000000   \n",
       "\n",
       "                cnt  \n",
       "count  17379.000000  \n",
       "mean     189.463088  \n",
       "std      181.387599  \n",
       "min        1.000000  \n",
       "25%       40.000000  \n",
       "50%      142.000000  \n",
       "75%      281.000000  \n",
       "max      977.000000  "
      ]
     },
     "execution_count": 3,
     "metadata": {},
     "output_type": "execute_result"
    }
   ],
   "source": [
    "bike_data.describe()"
   ]
  },
  {
   "cell_type": "code",
   "execution_count": 4,
   "metadata": {},
   "outputs": [
    {
     "data": {
      "text/plain": [
       "(17379, 17)"
      ]
     },
     "execution_count": 4,
     "metadata": {},
     "output_type": "execute_result"
    }
   ],
   "source": [
    "bike_data.shape"
   ]
  },
  {
   "cell_type": "code",
   "execution_count": 5,
   "metadata": {},
   "outputs": [
    {
     "data": {
      "text/plain": [
       "Text(0.5, 1.0, 'Distribution of the cnt column of bike_rentals')"
      ]
     },
     "execution_count": 5,
     "metadata": {},
     "output_type": "execute_result"
    },
    {
     "data": {
      "image/png": "[encoded data removed]",
      "text/plain": [
       "<Figure size 432x288 with 1 Axes>"
      ]
     },
     "metadata": {
      "needs_background": "light"
     },
     "output_type": "display_data"
    }
   ],
   "source": [
    "# Make a histogram of the cnt column of bike_rentals\n",
    "bike_data['cnt'].plot(kind='hist')\n",
    "plt.title('Distribution of the cnt column of bike_rentals')"
   ]
  },
  {
   "cell_type": "markdown",
   "metadata": {},
   "source": [
    "We can find the distribution of cnt is right skewed. Almost number of bike_rental is between 0-400. Next, we will see which features has high correlations with cnt."
   ]
  },
  {
   "cell_type": "code",
   "execution_count": 6,
   "metadata": {},
   "outputs": [
    {
     "data": {
      "text/plain": [
       "cnt           1.000000\n",
       "registered    0.972151\n",
       "casual        0.694564\n",
       "temp          0.404772\n",
       "atemp         0.400929\n",
       "hr            0.394071\n",
       "hum           0.322911\n",
       "instant       0.278379\n",
       "yr            0.250495\n",
       "season        0.178056\n",
       "weathersit    0.142426\n",
       "mnth          0.120638\n",
       "windspeed     0.093234\n",
       "holiday       0.030927\n",
       "workingday    0.030284\n",
       "weekday       0.026900\n",
       "Name: cnt, dtype: float64"
      ]
     },
     "execution_count": 6,
     "metadata": {},
     "output_type": "execute_result"
    }
   ],
   "source": [
    "# explore how each column is correlated with cnt\n",
    "corr_cnt=abs(bike_data.corr()['cnt']).sort_values(ascending=False)\n",
    "corr_cnt"
   ]
  },
  {
   "cell_type": "markdown",
   "metadata": {},
   "source": [
    "We can find the `registered`, `casual`, `temp`, `atemp`, `hr` are the top 5 high correlated features with `cnt`. However, we will not cinsider the `registered`, `casual` features because `cnt` is sum of `registered` and `casual`."
   ]
  },
  {
   "cell_type": "markdown",
   "metadata": {},
   "source": [
    "## Modify the Time Labels\n",
    "\n",
    "It can often be helpful to calculate features before applying machine learning models. Features can enhance the accuracy of models by introducing new information, or distilling existing information.\n",
    "\n",
    "For example, the `hr` column in `bike_rentals` contains the hours during which bikes are rented, from `1` to `24`. A machine will treat each hour differently, without understanding that certain hours are related. We can introduce some order into the process by creating a new column with labels for `morning`, `afternoon`, `evening`, and `night`. This will bundle similar times together, enabling the model to make better decisions."
   ]
  },
  {
   "cell_type": "code",
   "execution_count": 7,
   "metadata": {},
   "outputs": [],
   "source": [
    "# Write a function to modify time labels\n",
    "def assign_label(hour):\n",
    "    if 6<=hour<12:\n",
    "        return 1\n",
    "    elif 12<=hour<18:\n",
    "        return 2\n",
    "    elif 18<=hour<24:\n",
    "        return 3\n",
    "    else:\n",
    "        return 4"
   ]
  },
  {
   "cell_type": "code",
   "execution_count": 8,
   "metadata": {},
   "outputs": [
    {
     "data": {
      "text/plain": [
       "2    4375\n",
       "3    4368\n",
       "1    4360\n",
       "4    4276\n",
       "Name: time_label, dtype: int64"
      ]
     },
     "execution_count": 8,
     "metadata": {},
     "output_type": "execute_result"
    }
   ],
   "source": [
    "# apply function to hr column\n",
    "bike_data['time_label']=bike_data['hr'].apply(assign_label)\n",
    "bike_data['time_label'].value_counts()"
   ]
  },
  {
   "cell_type": "code",
   "execution_count": 9,
   "metadata": {},
   "outputs": [
    {
     "data": {
      "text/plain": [
       "cnt           1.000000\n",
       "registered    0.972151\n",
       "casual        0.694564\n",
       "temp          0.404772\n",
       "atemp         0.400929\n",
       "hr            0.394071\n",
       "time_label    0.378318\n",
       "hum           0.322911\n",
       "instant       0.278379\n",
       "yr            0.250495\n",
       "season        0.178056\n",
       "weathersit    0.142426\n",
       "mnth          0.120638\n",
       "windspeed     0.093234\n",
       "holiday       0.030927\n",
       "workingday    0.030284\n",
       "weekday       0.026900\n",
       "Name: cnt, dtype: float64"
      ]
     },
     "execution_count": 9,
     "metadata": {},
     "output_type": "execute_result"
    }
   ],
   "source": [
    "# explore how each column is correlated with cnt\n",
    "corr_cnt=abs(bike_data.corr()['cnt']).sort_values(ascending=False)\n",
    "corr_cnt"
   ]
  },
  {
   "cell_type": "markdown",
   "metadata": {},
   "source": [
    "We can see when we transfer `hr` column to `time_label` column, the correlations with `cnt` is decrease from 0.39 to 0.38, it is make sense because we classify 24 unique values to 4 groups. But it's also high related, so we can drop `hr` columns."
   ]
  },
  {
   "cell_type": "code",
   "execution_count": 10,
   "metadata": {},
   "outputs": [
    {
     "data": {
      "text/html": [
       "<div>\n",
       "<style scoped>\n",
       "    .dataframe tbody tr th:only-of-type {\n",
       "        vertical-align: middle;\n",
       "    }\n",
       "\n",
       "    .dataframe tbody tr th {\n",
       "        vertical-align: top;\n",
       "    }\n",
       "\n",
       "    .dataframe thead th {\n",
       "        text-align: right;\n",
       "    }\n",
       "</style>\n",
       "<table border=\"1\" class=\"dataframe\">\n",
       "  <thead>\n",
       "    <tr style=\"text-align: right;\">\n",
       "      <th></th>\n",
       "      <th>instant</th>\n",
       "      <th>dteday</th>\n",
       "      <th>season</th>\n",
       "      <th>yr</th>\n",
       "      <th>mnth</th>\n",
       "      <th>holiday</th>\n",
       "      <th>weekday</th>\n",
       "      <th>workingday</th>\n",
       "      <th>weathersit</th>\n",
       "      <th>temp</th>\n",
       "      <th>atemp</th>\n",
       "      <th>hum</th>\n",
       "      <th>windspeed</th>\n",
       "      <th>casual</th>\n",
       "      <th>registered</th>\n",
       "      <th>cnt</th>\n",
       "      <th>time_label</th>\n",
       "    </tr>\n",
       "  </thead>\n",
       "  <tbody>\n",
       "    <tr>\n",
       "      <th>0</th>\n",
       "      <td>1</td>\n",
       "      <td>2011-01-01</td>\n",
       "      <td>1</td>\n",
       "      <td>0</td>\n",
       "      <td>1</td>\n",
       "      <td>0</td>\n",
       "      <td>6</td>\n",
       "      <td>0</td>\n",
       "      <td>1</td>\n",
       "      <td>0.24</td>\n",
       "      <td>0.2879</td>\n",
       "      <td>0.81</td>\n",
       "      <td>0.0</td>\n",
       "      <td>3</td>\n",
       "      <td>13</td>\n",
       "      <td>16</td>\n",
       "      <td>4</td>\n",
       "    </tr>\n",
       "    <tr>\n",
       "      <th>1</th>\n",
       "      <td>2</td>\n",
       "      <td>2011-01-01</td>\n",
       "      <td>1</td>\n",
       "      <td>0</td>\n",
       "      <td>1</td>\n",
       "      <td>0</td>\n",
       "      <td>6</td>\n",
       "      <td>0</td>\n",
       "      <td>1</td>\n",
       "      <td>0.22</td>\n",
       "      <td>0.2727</td>\n",
       "      <td>0.80</td>\n",
       "      <td>0.0</td>\n",
       "      <td>8</td>\n",
       "      <td>32</td>\n",
       "      <td>40</td>\n",
       "      <td>4</td>\n",
       "    </tr>\n",
       "    <tr>\n",
       "      <th>2</th>\n",
       "      <td>3</td>\n",
       "      <td>2011-01-01</td>\n",
       "      <td>1</td>\n",
       "      <td>0</td>\n",
       "      <td>1</td>\n",
       "      <td>0</td>\n",
       "      <td>6</td>\n",
       "      <td>0</td>\n",
       "      <td>1</td>\n",
       "      <td>0.22</td>\n",
       "      <td>0.2727</td>\n",
       "      <td>0.80</td>\n",
       "      <td>0.0</td>\n",
       "      <td>5</td>\n",
       "      <td>27</td>\n",
       "      <td>32</td>\n",
       "      <td>4</td>\n",
       "    </tr>\n",
       "    <tr>\n",
       "      <th>3</th>\n",
       "      <td>4</td>\n",
       "      <td>2011-01-01</td>\n",
       "      <td>1</td>\n",
       "      <td>0</td>\n",
       "      <td>1</td>\n",
       "      <td>0</td>\n",
       "      <td>6</td>\n",
       "      <td>0</td>\n",
       "      <td>1</td>\n",
       "      <td>0.24</td>\n",
       "      <td>0.2879</td>\n",
       "      <td>0.75</td>\n",
       "      <td>0.0</td>\n",
       "      <td>3</td>\n",
       "      <td>10</td>\n",
       "      <td>13</td>\n",
       "      <td>4</td>\n",
       "    </tr>\n",
       "    <tr>\n",
       "      <th>4</th>\n",
       "      <td>5</td>\n",
       "      <td>2011-01-01</td>\n",
       "      <td>1</td>\n",
       "      <td>0</td>\n",
       "      <td>1</td>\n",
       "      <td>0</td>\n",
       "      <td>6</td>\n",
       "      <td>0</td>\n",
       "      <td>1</td>\n",
       "      <td>0.24</td>\n",
       "      <td>0.2879</td>\n",
       "      <td>0.75</td>\n",
       "      <td>0.0</td>\n",
       "      <td>0</td>\n",
       "      <td>1</td>\n",
       "      <td>1</td>\n",
       "      <td>4</td>\n",
       "    </tr>\n",
       "  </tbody>\n",
       "</table>\n",
       "</div>"
      ],
      "text/plain": [
       "   instant      dteday  season  yr  mnth  holiday  weekday  workingday  \\\n",
       "0        1  2011-01-01       1   0     1        0        6           0   \n",
       "1        2  2011-01-01       1   0     1        0        6           0   \n",
       "2        3  2011-01-01       1   0     1        0        6           0   \n",
       "3        4  2011-01-01       1   0     1        0        6           0   \n",
       "4        5  2011-01-01       1   0     1        0        6           0   \n",
       "\n",
       "   weathersit  temp   atemp   hum  windspeed  casual  registered  cnt  \\\n",
       "0           1  0.24  0.2879  0.81        0.0       3          13   16   \n",
       "1           1  0.22  0.2727  0.80        0.0       8          32   40   \n",
       "2           1  0.22  0.2727  0.80        0.0       5          27   32   \n",
       "3           1  0.24  0.2879  0.75        0.0       3          10   13   \n",
       "4           1  0.24  0.2879  0.75        0.0       0           1    1   \n",
       "\n",
       "   time_label  \n",
       "0           4  \n",
       "1           4  \n",
       "2           4  \n",
       "3           4  \n",
       "4           4  "
      ]
     },
     "execution_count": 10,
     "metadata": {},
     "output_type": "execute_result"
    }
   ],
   "source": [
    "bike_data=bike_data.drop(columns='hr')\n",
    "bike_data.head(5)"
   ]
  },
  {
   "cell_type": "markdown",
   "metadata": {},
   "source": [
    "## Train and Test data sets\n",
    "\n",
    "Before begin applying machine learning algorithms, I'll need to split the data into training and testing sets. This will enable to train an algorithm using the training set, and evaluate its accuracy on the testing set. If I train an algorithm on the training data, then evaluate its performance on the same data, I can get an unrealistically low error value, due to overfitting."
   ]
  },
  {
   "cell_type": "code",
   "execution_count": 11,
   "metadata": {},
   "outputs": [
    {
     "name": "stdout",
     "output_type": "stream",
     "text": [
      "(13903, 17)\n",
      "(3476, 17)\n"
     ]
    }
   ],
   "source": [
    "# split train and test data set\n",
    "train_data=bike_data.sample(frac=0.8, random_state = 1)\n",
    "test_data=bike_data.loc[~bike_data.index.isin(train_data.index)]\n",
    "\n",
    "print(train_data.shape)\n",
    "print(test_data.shape)"
   ]
  },
  {
   "cell_type": "markdown",
   "metadata": {},
   "source": [
    "## Feature Selection\n",
    "We will use feature correlation heatmap to filter the features that we won't be use."
   ]
  },
  {
   "cell_type": "code",
   "execution_count": 12,
   "metadata": {},
   "outputs": [
    {
     "data": {
      "text/plain": [
       "<matplotlib.axes._subplots.AxesSubplot at 0x1a1c88f450>"
      ]
     },
     "execution_count": 12,
     "metadata": {},
     "output_type": "execute_result"
    },
    {
     "data": {
      "image/png": "[encoded data removed]",
      "text/plain": [
       "<Figure size 864x720 with 2 Axes>"
      ]
     },
     "metadata": {
      "needs_background": "light"
     },
     "output_type": "display_data"
    }
   ],
   "source": [
    "# heatmap of correlation\n",
    "plt.figure(figsize=(12,10))\n",
    "sns.heatmap(bike_data.corr(),annot=True)"
   ]
  },
  {
   "cell_type": "markdown",
   "metadata": {},
   "source": [
    "we can filter the features that:\n",
    "* `cnt`,`registered`,`casual` column should be removed.\n",
    "* `temp`,`atemp` are high correlated, so we just select `temp` for prediction.\n",
    "* `dteday` should be removed because its not numeric data and it's high related with `season`,`yr`,`month`,`holiday` columns.\n",
    "* `instant` should be removed cause it's stand for ID."
   ]
  },
  {
   "cell_type": "code",
   "execution_count": 13,
   "metadata": {},
   "outputs": [
    {
     "data": {
      "text/plain": [
       "Index(['season', 'yr', 'mnth', 'holiday', 'weekday', 'workingday',\n",
       "       'weathersit', 'temp', 'hum', 'windspeed', 'time_label'],\n",
       "      dtype='object')"
      ]
     },
     "execution_count": 13,
     "metadata": {},
     "output_type": "execute_result"
    }
   ],
   "source": [
    "# filter features\n",
    "filter_cols=['cnt', 'casual', 'registered', 'atemp', 'dteday', 'instant']\n",
    "features=bike_data.columns.drop(filter_cols)\n",
    "features"
   ]
  },
  {
   "cell_type": "markdown",
   "metadata": {},
   "source": [
    "## Error Matrix\n",
    "\n",
    "I will use `RMSE: Root Mean Square Error` and `R2: R Square` as our error matrix.\n",
    "\n",
    "* **RMSE**: The RMSE is the square root of the variance of the residuals. It indicates the absolute fit of the model to the data–how close the observed data points are to the model’s predicted values. \n",
    "\n",
    "* **$R^2$**: R-squared has the useful property that its scale is intuitive: it ranges from zero to one, with zero indicating that the proposed model does not improve prediction over the mean model, and one indicating perfect prediction. \n",
    "\n"
   ]
  },
  {
   "cell_type": "markdown",
   "metadata": {},
   "source": [
    "## Machine Learning Algorithms\n",
    "I will use the following three machine learning algorithms and compare their error:\n",
    "* **Linear Regression Algorithm**\n",
    "* **Decision Tree Algorithm**\n",
    "* **Random Forest Algorithm**\n",
    "\n"
   ]
  },
  {
   "cell_type": "markdown",
   "metadata": {},
   "source": [
    "### Linear Regression Algorithm\n",
    "Linear regression works best when predictors are linearly correlated to the target and also independent -- in other words, they don't change meaning when we combine them with each other. The good thing about linear regression is that it's fairly resistant to overfitting because it's straightforward. It also can be prone to underfitting the data, however, and not building a powerful enough model. This means that linear regression usually isn't the most accurate option."
   ]
  },
  {
   "cell_type": "code",
   "execution_count": 14,
   "metadata": {},
   "outputs": [],
   "source": [
    "# linear regression model\n",
    "def linear_regression(train, test, features,target):\n",
    "    lr=LinearRegression()\n",
    "    lr.fit(train[features],train[target])\n",
    "    predictions=lr.predict(test[features])\n",
    "    \n",
    "    # error matrix\n",
    "    mse=mean_squared_error(test[target],predictions)\n",
    "    rmse=np.sqrt(mse)\n",
    "    r2=r2_score(test[target],predictions)\n",
    "    return rmse, r2\n",
    "\n"
   ]
  },
  {
   "cell_type": "code",
   "execution_count": 15,
   "metadata": {},
   "outputs": [
    {
     "name": "stdout",
     "output_type": "stream",
     "text": [
      "Linear Regression Model\n",
      "*************************\n",
      "the test/validation error is: (rmse: 137.5541247292391, r2: 0.4032580169394715)\n",
      "the train/bias error is: (rmse: 139.50354323933254, r2: 0.41372485839533235)\n"
     ]
    }
   ],
   "source": [
    "#test error\n",
    "lr_test_error=linear_regression(train_data,test_data,features,'cnt')\n",
    "lr_test_rmse=lr_test_error[0]\n",
    "lr_test_r2=lr_test_error[1]\n",
    "\n",
    "# train error\n",
    "lr_train_error=linear_regression(train_data,train_data,features,'cnt')\n",
    "lr_train_rmse=lr_train_error[0]\n",
    "lr_train_r2=lr_train_error[1]\n",
    "\n",
    "print('Linear Regression Model')\n",
    "print('*************************')\n",
    "print('the test/validation error is: (rmse: {0}, r2: {1})'.format(lr_test_rmse,lr_test_r2))\n",
    "print('the train/bias error is: (rmse: {0}, r2: {1})'.format(lr_train_rmse,lr_train_r2))"
   ]
  },
  {
   "cell_type": "markdown",
   "metadata": {},
   "source": [
    "The error of train and test data are both high so that means the linear regression model are underfiting. The reason is that our model are very simple or too many outerlier data for rent cars."
   ]
  },
  {
   "cell_type": "markdown",
   "metadata": {},
   "source": [
    "### Decision Tree Algorithm\n",
    "\n",
    "Decision trees tend to predict outcomes much more reliably than linear regression models. Because a decision tree is a fairly complex model, it also tends to overfit, particularly when we don't tweak parameters like maximum depth and minimum number of samples per leaf. Decision trees are also prone to instability -- small changes in the input data can result in a very different output model."
   ]
  },
  {
   "cell_type": "code",
   "execution_count": 16,
   "metadata": {},
   "outputs": [],
   "source": [
    "# Decision Tree Model\n",
    "def decision_tree(train,test,features,target, min_samples_leaf=2,max_depth = None):\n",
    "    dtr=DecisionTreeRegressor(random_state=1,min_samples_leaf=min_samples_leaf,max_depth = max_depth)\n",
    "    dtr.fit(train[features],train[target])\n",
    "    predictions=dtr.predict(test[features])\n",
    "    \n",
    "    #error matrix\n",
    "    mse=mean_squared_error(test[target],predictions)\n",
    "    rmse=np.sqrt(mse)\n",
    "    r2=r2_score(test[target],predictions)\n",
    "    return rmse, r2"
   ]
  },
  {
   "cell_type": "code",
   "execution_count": 17,
   "metadata": {},
   "outputs": [
    {
     "name": "stdout",
     "output_type": "stream",
     "text": [
      "Decision Tree Model\n",
      "*************************\n",
      "the test/validation error is: (rmse: 132.9801017414426, r2: 0.4422845451225055)\n",
      "the train/bias error is: (rmse: 54.9706363434719, r2: 0.9089683253253015)\n"
     ]
    }
   ],
   "source": [
    "# test error\n",
    "dtr_test_error=decision_tree(train_data,test_data,features,'cnt')\n",
    "dtr_test_rmse=dtr_test_error[0]\n",
    "dtr_test_r2=dtr_test_error[1]\n",
    "\n",
    "# train error\n",
    "dtr_train_error=decision_tree(train_data,train_data,features,'cnt')\n",
    "dtr_train_rmse=dtr_train_error[0]\n",
    "dtr_train_r2=dtr_train_error[1]\n",
    "\n",
    "print('Decision Tree Model')\n",
    "print('*************************')\n",
    "print('the test/validation error is: (rmse: {0}, r2: {1})'.format(dtr_test_rmse,dtr_test_r2))\n",
    "print('the train/bias error is: (rmse: {0}, r2: {1})'.format(dtr_train_rmse,dtr_train_r2))"
   ]
  },
  {
   "cell_type": "markdown",
   "metadata": {},
   "source": [
    "According to result above, we can see that the error for both test and train data are decrease when compare linear regression model. However, the train/bias error are much smaller than test/validation error, which indicated the model make better performance on train data than test data, that lead overfitting. So, next we will adjust feature like `min_samples_leaf` to prune overfitting."
   ]
  },
  {
   "cell_type": "code",
   "execution_count": 18,
   "metadata": {},
   "outputs": [],
   "source": [
    "# adjust min_samples_leaf to modify decison tree model\n",
    "dtr_test_rmses={}\n",
    "dtr_train_rmses={}\n",
    "for i in range(2,30,1):\n",
    "    train_error=decision_tree(train_data,train_data,features,'cnt',min_samples_leaf=i)\n",
    "    test_error=decision_tree(train_data,test_data,features,'cnt',min_samples_leaf=i)\n",
    "    dtr_train_rmses[i]=train_error[0]\n",
    "    dtr_test_rmses[i]=test_error[0]\n",
    "    \n",
    "\n",
    "    \n",
    "    "
   ]
  },
  {
   "cell_type": "code",
   "execution_count": 19,
   "metadata": {},
   "outputs": [
    {
     "name": "stdout",
     "output_type": "stream",
     "text": [
      "Test rmses:  {2: 132.9801017414426, 3: 130.17696732189185, 4: 124.4787945148405, 5: 123.56878198432094, 6: 121.65290039059155, 7: 121.74011856527146, 8: 120.71847279527795, 9: 119.53231436876405, 10: 118.45423724093753, 11: 118.25835933153064, 12: 117.75023881964857, 13: 116.22537128468214, 14: 116.07478805497192, 15: 115.40223247425675, 16: 115.14642751122906, 17: 115.02820948642002, 18: 115.35695462892988, 19: 115.0779892438346, 20: 115.17880656843205, 21: 115.89650810215312, 22: 115.46023816258023, 23: 115.09552652359858, 24: 115.15581187314493, 25: 115.24300508373142, 26: 115.28328189300855, 27: 115.0929979871871, 28: 115.08851795079644, 29: 114.98962904457946}\n",
      "\n",
      "\n",
      "Train rmses:  {2: 54.9706363434719, 3: 70.37750483931147, 4: 78.80388287033732, 5: 84.08209340943203, 6: 87.6894770681529, 7: 90.56946036457951, 8: 92.74296506843676, 9: 95.13041914354034, 10: 96.96092157137404, 11: 98.17469449026517, 12: 99.14947661168107, 13: 100.19560540780066, 14: 101.06869524467804, 15: 101.60171432104188, 16: 102.21893472563464, 17: 102.84312123128582, 18: 103.16427248357554, 19: 103.97768234697419, 20: 104.41207838017506, 21: 104.99423044027421, 22: 105.48522177887918, 23: 105.80581648900922, 24: 106.12143474218948, 25: 106.38592630274316, 26: 106.54474677615856, 27: 106.94572570830942, 28: 107.18096441081725, 29: 107.39102517396452}\n"
     ]
    }
   ],
   "source": [
    "print('Test rmses: ',dtr_test_rmses)\n",
    "print('\\n')\n",
    "print('Train rmses: ', dtr_train_rmses)"
   ]
  },
  {
   "cell_type": "code",
   "execution_count": 20,
   "metadata": {},
   "outputs": [
    {
     "data": {
      "text/plain": [
       "Text(0.5, 1.0, 'Error of Decision Tree Regression with changing min_samples_leaf\"')"
      ]
     },
     "execution_count": 20,
     "metadata": {},
     "output_type": "execute_result"
    },
    {
     "data": {
      "image/png": "[encoded data removed]",
      "text/plain": [
       "<Figure size 720x576 with 1 Axes>"
      ]
     },
     "metadata": {
      "needs_background": "light"
     },
     "output_type": "display_data"
    }
   ],
   "source": [
    "# lets visulalize test and train error\n",
    "plt.figure(figsize=(10,8))\n",
    "x=range(2,30,1)\n",
    "y1=list(dtr_train_rmses.values())\n",
    "y2=list(dtr_test_rmses.values())\n",
    "plt.plot(x,y1,label='train rmse')\n",
    "plt.plot(x,y2,label='test rmse')\n",
    "plt.legend()\n",
    "plt.xlabel('min_samples_leaf')\n",
    "plt.ylabel('RMSE')\n",
    "plt.xticks(x)\n",
    "plt.title('Error of Decision Tree Regression with changing min_samples_leaf\"')\n"
   ]
  },
  {
   "cell_type": "markdown",
   "metadata": {},
   "source": [
    "According to figure above, if we want to trade off low bias error and low validation error, we will select min_samples_leaf as 30. Even if ,the rmse errors are also bigger on test and train data."
   ]
  },
  {
   "cell_type": "code",
   "execution_count": 21,
   "metadata": {},
   "outputs": [
    {
     "name": "stdout",
     "output_type": "stream",
     "text": [
      "Decision Tree Model\n",
      "*************************\n",
      "the test/validation error is: (rmse: 114.94441227009158, r2: 0.583308073840701)\n",
      "the train/bias error is: (rmse: 107.61351136311657, r2: 0.6511292102992445)\n"
     ]
    }
   ],
   "source": [
    "# set min_samples_leaf=30\n",
    "# test error\n",
    "dtr_test_error=decision_tree(train_data,test_data,features,'cnt',min_samples_leaf=30)\n",
    "dtr_test_rmse=dtr_test_error[0]\n",
    "dtr_test_r2=dtr_test_error[1]\n",
    "\n",
    "# train error\n",
    "dtr_train_error=decision_tree(train_data,train_data,features,'cnt',min_samples_leaf=30)\n",
    "dtr_train_rmse=dtr_train_error[0]\n",
    "dtr_train_r2=dtr_train_error[1]\n",
    "\n",
    "print('Decision Tree Model')\n",
    "print('*************************')\n",
    "print('the test/validation error is: (rmse: {0}, r2: {1})'.format(dtr_test_rmse,dtr_test_r2))\n",
    "print('the train/bias error is: (rmse: {0}, r2: {1})'.format(dtr_train_rmse,dtr_train_r2))"
   ]
  },
  {
   "cell_type": "markdown",
   "metadata": {},
   "source": [
    "**RMSE Error** and **R2 Error** are still not to reach our expections. And the model also overfitting a little. Next, we will keep the `min_samples_leaf` and adjust `max_depth`."
   ]
  },
  {
   "cell_type": "code",
   "execution_count": 22,
   "metadata": {},
   "outputs": [],
   "source": [
    "# adjust max_depth to modify decison tree model\n",
    "dtr_test_rmses={}\n",
    "dtr_train_rmses={}\n",
    "for i in range(2,30,1):\n",
    "    train_error=decision_tree(train_data,train_data,features,'cnt',min_samples_leaf=30,max_depth=i)\n",
    "    test_error=decision_tree(train_data,test_data,features,'cnt',min_samples_leaf=30,max_depth=i)\n",
    "    dtr_train_rmses[i]=train_error[0]\n",
    "    dtr_test_rmses[i]=test_error[0]\n",
    "    "
   ]
  },
  {
   "cell_type": "code",
   "execution_count": 23,
   "metadata": {},
   "outputs": [
    {
     "name": "stdout",
     "output_type": "stream",
     "text": [
      "Test rmses:  {2: 139.44792640053726, 3: 131.37123832971537, 4: 125.81885810688732, 5: 123.71571653582981, 6: 121.82822781395811, 7: 118.04602197830421, 8: 116.37399812066246, 9: 115.10475762131495, 10: 115.17487109948917, 11: 114.64147878137419, 12: 115.19404225417873, 13: 115.1485310624994, 14: 114.9525543542074, 15: 114.9453688969245, 16: 114.94441227009158, 17: 114.94441227009158, 18: 114.94441227009158, 19: 114.94441227009158, 20: 114.94441227009158, 21: 114.94441227009158, 22: 114.94441227009158, 23: 114.94441227009158, 24: 114.94441227009158, 25: 114.94441227009158, 26: 114.94441227009158, 27: 114.94441227009158, 28: 114.94441227009158, 29: 114.94441227009158}\n",
      "\n",
      "\n",
      "Train rmses:  {2: 143.7432632668408, 3: 134.17905253511753, 4: 127.88416929495193, 5: 124.38461377095174, 6: 121.44384348553078, 7: 117.2874086332591, 8: 114.35205098596899, 9: 111.82825455313902, 10: 110.14112352887136, 11: 109.0103825502797, 12: 108.04198577577563, 13: 107.75072282124776, 14: 107.63405188566033, 15: 107.62253059148833, 16: 107.61351136311657, 17: 107.61351136311657, 18: 107.61351136311657, 19: 107.61351136311657, 20: 107.61351136311657, 21: 107.61351136311657, 22: 107.61351136311657, 23: 107.61351136311657, 24: 107.61351136311657, 25: 107.61351136311657, 26: 107.61351136311657, 27: 107.61351136311657, 28: 107.61351136311657, 29: 107.61351136311657}\n"
     ]
    }
   ],
   "source": [
    "print('Test rmses: ',dtr_test_rmses)\n",
    "print('\\n')\n",
    "print('Train rmses: ', dtr_train_rmses)"
   ]
  },
  {
   "cell_type": "code",
   "execution_count": 24,
   "metadata": {},
   "outputs": [
    {
     "data": {
      "text/plain": [
       "Text(0.5, 1.0, 'Error of Decision Tree Regression with changing max_depth\"')"
      ]
     },
     "execution_count": 24,
     "metadata": {},
     "output_type": "execute_result"
    },
    {
     "data": {
      "image/png": "[encoded data removed]",
      "text/plain": [
       "<Figure size 720x576 with 1 Axes>"
      ]
     },
     "metadata": {
      "needs_background": "light"
     },
     "output_type": "display_data"
    }
   ],
   "source": [
    "# lets visulalize test and train error\n",
    "plt.figure(figsize=(10,8))\n",
    "x=range(2,30,1)\n",
    "y1=list(dtr_train_rmses.values())\n",
    "y2=list(dtr_test_rmses.values())\n",
    "plt.plot(x,y1,label='train rmse')\n",
    "plt.plot(x,y2,label='test rmse')\n",
    "plt.legend()\n",
    "plt.xlabel('max depth')\n",
    "plt.ylabel('RMSE')\n",
    "plt.xticks(x)\n",
    "plt.title('Error of Decision Tree Regression with changing max_depth\"')"
   ]
  },
  {
   "cell_type": "markdown",
   "metadata": {},
   "source": [
    "We can find that the trade off point is that the `max_depth`=6. But RMSE are also bigger.In addition, for test error, rmse=115 seems to be the lowest possible test error."
   ]
  },
  {
   "cell_type": "code",
   "execution_count": 25,
   "metadata": {},
   "outputs": [
    {
     "name": "stdout",
     "output_type": "stream",
     "text": [
      "Decision Tree Model\n",
      "*************************\n",
      "the test/validation error is: (rmse: 121.82822781395811, r2: 0.5319036969715569)\n",
      "the train/bias error is: (rmse: 121.44384348553078, r2: 0.5556941715630297)\n"
     ]
    }
   ],
   "source": [
    "# set min_samples_leaf=30\n",
    "# test error\n",
    "dtr_test_error=decision_tree(train_data,test_data,features,'cnt',min_samples_leaf=30,max_depth=6)\n",
    "dtr_test_rmse=dtr_test_error[0]\n",
    "dtr_test_r2=dtr_test_error[1]\n",
    "\n",
    "# train error\n",
    "dtr_train_error=decision_tree(train_data,train_data,features,'cnt',min_samples_leaf=30, max_depth=6)\n",
    "dtr_train_rmse=dtr_train_error[0]\n",
    "dtr_train_r2=dtr_train_error[1]\n",
    "\n",
    "print('Decision Tree Model')\n",
    "print('*************************')\n",
    "print('the test/validation error is: (rmse: {0}, r2: {1})'.format(dtr_test_rmse,dtr_test_r2))\n",
    "print('the train/bias error is: (rmse: {0}, r2: {1})'.format(dtr_train_rmse,dtr_train_r2))"
   ]
  },
  {
   "cell_type": "markdown",
   "metadata": {},
   "source": [
    "The descion tree model have a liitle better performance than linear regression, Next we will try use random forest algorithm to improve our model."
   ]
  },
  {
   "cell_type": "markdown",
   "metadata": {},
   "source": [
    "### Random Forest Algorithm\n",
    "\n",
    "Random forests tend to be much more accurate than simple models like linear regression. Due to the way random forests are constructed, they tend to overfit much less than decision trees. Random forests can still be prone to overfitting, though, so it's important to tune parameters like maximum depth and minimum samples per leaf."
   ]
  },
  {
   "cell_type": "code",
   "execution_count": 26,
   "metadata": {},
   "outputs": [],
   "source": [
    "# random forest model\n",
    "def random_forest(train, test, features, target, min_samples_leaf=2, max_depth = None):\n",
    "    rf=RandomForestRegressor(random_state=1, min_samples_leaf=min_samples_leaf, max_depth = max_depth)\n",
    "    rf.fit(train[features],train[target])\n",
    "    predictions=rf.predict(test[features])\n",
    "    \n",
    "    # error matrix\n",
    "    mse = mean_squared_error(test[target], predictions)\n",
    "    rmse = np.sqrt(mse)\n",
    "    r2 = r2_score(test[target], predictions)\n",
    "    return rmse, r2"
   ]
  },
  {
   "cell_type": "code",
   "execution_count": 27,
   "metadata": {},
   "outputs": [
    {
     "name": "stdout",
     "output_type": "stream",
     "text": [
      "Random Forest Model\n",
      "*************************\n",
      "the test/validation error is: (rmse: 107.88458039363816, r2: 0.6329222076328826)\n",
      "the train/bias error is: (rmse: 61.54163314905986, r2: 0.885904362925732)\n"
     ]
    }
   ],
   "source": [
    "# test error\n",
    "rf_test_error=random_forest(train_data,test_data,features,'cnt')\n",
    "rf_test_rmse=rf_test_error[0]\n",
    "rf_test_r2=rf_test_error[1]\n",
    "\n",
    "# train error\n",
    "rf_train_error=random_forest(train_data,train_data,features,'cnt')\n",
    "rf_train_rmse=rf_train_error[0]\n",
    "rf_train_r2=rf_train_error[1]\n",
    "\n",
    "print('Random Forest Model')\n",
    "print('*************************')\n",
    "print('the test/validation error is: (rmse: {0}, r2: {1})'.format(rf_test_rmse,rf_test_r2))\n",
    "print('the train/bias error is: (rmse: {0}, r2: {1})'.format(rf_train_rmse,rf_train_r2))"
   ]
  },
  {
   "cell_type": "code",
   "execution_count": 28,
   "metadata": {},
   "outputs": [
    {
     "name": "stdout",
     "output_type": "stream",
     "text": [
      "rf_test_rmses:  {2: 138.82369217828622, 3: 130.77775883572366, 4: 123.97062557062172, 5: 120.36110731709637, 6: 117.97235892813634, 7: 114.91844966754994, 8: 112.30315680183011, 9: 110.29147470783833, 10: 108.78902072646989, 11: 107.69161466277077, 12: 107.2896044890214, 13: 107.11302582609252, 14: 107.21992606012022, 15: 107.2280675986411, 16: 107.36830329283345, 17: 107.43471054664921, 18: 107.53356705412627, 19: 107.65480167862562, 20: 107.76082017870482, 21: 107.78862815269723, 22: 107.7514790845806, 23: 107.8034851431418, 24: 107.78004743596838, 25: 107.86945490458452, 26: 107.88469311243884, 27: 107.8765615352296, 28: 107.88093913941822, 29: 107.89297305084847, 30: 107.89048997922819}\n",
      "\n",
      "\n",
      "rf_train_rmse:  {2: 143.1676422516666, 3: 133.57166248939515, 4: 126.35628848754871, 5: 122.06832006262667, 6: 118.41565372464174, 7: 114.3075240974464, 8: 110.0009601802127, 9: 105.30275666842776, 10: 99.96132848230799, 11: 94.15101721131468, 12: 88.0136508077564, 13: 82.01256203203555, 14: 76.66231815685563, 15: 72.13778911387045, 16: 68.53747680497189, 17: 65.96199189950099, 18: 64.18052910323287, 19: 63.05184608579626, 20: 62.363751891527016, 21: 61.94506235905455, 22: 61.75227677782249, 23: 61.62791105841418, 24: 61.58272662343865, 25: 61.55476403375179, 26: 61.555028605994615, 27: 61.54359394296558, 28: 61.54169782454468, 29: 61.54276164137388, 30: 61.541737773338504}\n"
     ]
    }
   ],
   "source": [
    "# adjust max_depth to improve model\n",
    "rf_test_rmses={}\n",
    "rf_train_rmse={}\n",
    "for i in range(2,31,1):\n",
    "    test_error=random_forest(train_data,test_data,features,'cnt', max_depth=i)\n",
    "    train_error=random_forest(train_data,train_data,features,'cnt',max_depth=i)\n",
    "    rf_test_rmses[i]=test_error[0]\n",
    "    rf_train_rmse[i]=train_error[0]\n",
    "    \n",
    "print('rf_test_rmses: ',rf_test_rmses)\n",
    "print('\\n')\n",
    "print('rf_train_rmse: ',rf_train_rmse)"
   ]
  },
  {
   "cell_type": "code",
   "execution_count": 29,
   "metadata": {},
   "outputs": [
    {
     "data": {
      "text/plain": [
       "Text(0.5, 1.0, 'Error of Decision Tree Regression with changing max_depth\"')"
      ]
     },
     "execution_count": 29,
     "metadata": {},
     "output_type": "execute_result"
    },
    {
     "data": {
      "image/png": "[encoded data removed]",
      "text/plain": [
       "<Figure size 720x576 with 1 Axes>"
      ]
     },
     "metadata": {
      "needs_background": "light"
     },
     "output_type": "display_data"
    }
   ],
   "source": [
    "# lets visulalize test and train error\n",
    "plt.figure(figsize=(10,8))\n",
    "x=range(2,31,1)\n",
    "y1=list(rf_train_rmse.values())\n",
    "y2=list(rf_test_rmses.values())\n",
    "plt.plot(x,y1,label='train rmse')\n",
    "plt.plot(x,y2,label='test rmse')\n",
    "plt.legend()\n",
    "plt.xlabel('max depth')\n",
    "plt.ylabel('RMSE')\n",
    "plt.xticks(x)\n",
    "plt.title('Error of Decision Tree Regression with changing max_depth')"
   ]
  },
  {
   "cell_type": "code",
   "execution_count": 30,
   "metadata": {},
   "outputs": [
    {
     "name": "stdout",
     "output_type": "stream",
     "text": [
      "rf_test_rmses:  {2: 117.97235892813634, 3: 117.96393276005772, 4: 117.96495418212456, 5: 117.9635558976305, 6: 117.9638312698022, 7: 117.96275620357004, 8: 117.96437029190398, 9: 117.96615835843522, 10: 117.9624343379747, 11: 117.95312238861331, 12: 117.94670477019561, 13: 117.9437739311582, 14: 117.93841821073507, 15: 117.93543309259347, 16: 117.9345733793825, 17: 117.93787648517035, 18: 117.9335182099296, 19: 117.93049909572453, 20: 117.93240815531315, 21: 117.9393338161772, 22: 117.94128881554731, 23: 117.94385068949411, 24: 117.94374896983484, 25: 117.94432012506071, 26: 117.9447080062715, 27: 117.94666486355298, 28: 117.94987705434436, 29: 117.9546935617565, 30: 117.95490546619368}\n",
      "\n",
      "\n",
      "rf_train_rmse:  {2: 118.41565372464174, 3: 118.41335949714289, 4: 118.41593679694955, 5: 118.41817388247728, 6: 118.41917989145779, 7: 118.42092891713872, 8: 118.42149935485142, 9: 118.42340686053758, 10: 118.42835039180036, 11: 118.43190551540816, 12: 118.43641622415993, 13: 118.44017423953284, 14: 118.44358561627855, 15: 118.44566139771206, 16: 118.44919135471821, 17: 118.45142437535861, 18: 118.45368205050517, 19: 118.45496452378657, 20: 118.45684429206509, 21: 118.46205004888263, 22: 118.46636790489146, 23: 118.47827805453656, 24: 118.48032880678278, 25: 118.48519813546832, 26: 118.49018279727862, 27: 118.49393544627289, 28: 118.49606238648781, 29: 118.49864799359277, 30: 118.50052948655227}\n"
     ]
    }
   ],
   "source": [
    "# adjust min_samples_leaf and fixed max_depth=6 to improve model\n",
    "rf_test_rmses={}\n",
    "rf_train_rmse={}\n",
    "for i in range(2,31,1):\n",
    "    test_error=random_forest(train_data,test_data,features,'cnt',min_samples_leaf=i, max_depth=6)\n",
    "    train_error=random_forest(train_data,train_data,features,'cnt',min_samples_leaf=i, max_depth=6)\n",
    "    rf_test_rmses[i]=test_error[0]\n",
    "    rf_train_rmse[i]=train_error[0]\n",
    "    \n",
    "print('rf_test_rmses: ',rf_test_rmses)\n",
    "print('\\n')\n",
    "print('rf_train_rmse: ',rf_train_rmse)"
   ]
  },
  {
   "cell_type": "code",
   "execution_count": 33,
   "metadata": {},
   "outputs": [
    {
     "data": {
      "text/plain": [
       "Text(0.5, 1.0, 'Error of Decision Tree Regression with changing min_samples_leaf')"
      ]
     },
     "execution_count": 33,
     "metadata": {},
     "output_type": "execute_result"
    },
    {
     "data": {
      "image/png": "[encoded data removed]",
      "text/plain": [
       "<Figure size 720x576 with 1 Axes>"
      ]
     },
     "metadata": {
      "needs_background": "light"
     },
     "output_type": "display_data"
    }
   ],
   "source": [
    "# lets visulalize test and train error\n",
    "plt.figure(figsize=(10,8))\n",
    "x=range(2,31,1)\n",
    "y1=list(rf_train_rmse.values())\n",
    "y2=list(rf_test_rmses.values())\n",
    "plt.plot(x,y1,label='train rmse')\n",
    "plt.plot(x,y2,label='test rmse')\n",
    "plt.legend()\n",
    "plt.xlabel('min_samples_leaf')\n",
    "plt.ylabel('RMSE')\n",
    "plt.xticks(x)\n",
    "plt.yticks(range(115,125,1))\n",
    "plt.title('Error of Decision Tree Regression with changing min_samples_leaf')"
   ]
  },
  {
   "cell_type": "markdown",
   "metadata": {},
   "source": [
    "It seems like changing `min_samples_leaf` have no influence on test and train error. Lastly, we will adjust max_depth to imporve our random forest model."
   ]
  },
  {
   "cell_type": "code",
   "execution_count": 37,
   "metadata": {},
   "outputs": [
    {
     "name": "stdout",
     "output_type": "stream",
     "text": [
      "Random Forest Model\n",
      "*************************\n",
      "the test/validation error is: (rmse: 117.9635558976305, r2: 0.5611308347673548)\n",
      "the train/bias error is: (rmse: 118.41817388247728, r2: 0.5775573846572084)\n"
     ]
    }
   ],
   "source": [
    "# test error\n",
    "rf_test_error=random_forest(train_data,test_data,features,'cnt',min_samples_leaf=5,max_depth=6)\n",
    "rf_test_rmse=rf_test_error[0]\n",
    "rf_test_r2=rf_test_error[1]\n",
    "\n",
    "# train error\n",
    "rf_train_error=random_forest(train_data,train_data,features,'cnt',min_samples_leaf=5,max_depth=6)\n",
    "rf_train_rmse=rf_train_error[0]\n",
    "rf_train_r2=rf_train_error[1]\n",
    "\n",
    "print('Random Forest Model')\n",
    "print('*************************')\n",
    "print('the test/validation error is: (rmse: {0}, r2: {1})'.format(rf_test_rmse,rf_test_r2))\n",
    "print('the train/bias error is: (rmse: {0}, r2: {1})'.format(rf_train_rmse,rf_train_r2))"
   ]
  },
  {
   "cell_type": "markdown",
   "metadata": {},
   "source": [
    "The random forest model make a little better performance but still far from enough. Maybe we will try to scale features that may improve our predictions.\n"
   ]
  },
  {
   "cell_type": "markdown",
   "metadata": {},
   "source": [
    "## Conclusion\n",
    "\n",
    "By removing some of the sources of overfitting, the random forest accuracy is improved over the decision tree and linear regression accuracy. However, the  predictive of model still not reach our expections, here are some tips for further research:\n",
    "* Apply feature scaling method\n",
    "* Feature selections should be imporved, include `instant` columns.\n",
    "* Predict `causal` and `registered` separately, not sum of them."
   ]
  },
  {
   "cell_type": "code",
   "execution_count": null,
   "metadata": {},
   "outputs": [],
   "source": []
  }
 ],
 "metadata": {
  "kernelspec": {
   "display_name": "Python 3",
   "language": "python",
   "name": "python3"
  },
  "language_info": {
   "codemirror_mode": {
    "name": "ipython",
    "version": 3
   },
   "file_extension": ".py",
   "mimetype": "text/x-python",
   "name": "python",
   "nbconvert_exporter": "python",
   "pygments_lexer": "ipython3",
   "version": "3.7.7"
  }
 },
 "nbformat": 4,
 "nbformat_minor": 1
}
